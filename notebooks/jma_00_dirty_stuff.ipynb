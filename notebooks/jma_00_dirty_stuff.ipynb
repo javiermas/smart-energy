{
 "cells": [
  {
   "cell_type": "code",
   "execution_count": 2,
   "metadata": {},
   "outputs": [
    {
     "name": "stdout",
     "output_type": "stream",
     "text": [
      "The autoreload extension is already loaded. To reload it, use:\n",
      "  %reload_ext autoreload\n"
     ]
    },
    {
     "data": {
      "text/html": [
       "<style>.container { width: 1600px !important; }</style>"
      ],
      "text/plain": [
       "<IPython.core.display.HTML object>"
      ]
     },
     "metadata": {},
     "output_type": "display_data"
    }
   ],
   "source": [
    "%load_ext autoreload\n",
    "%autoreload 2\n",
    "\n",
    "from functools import reduce\n",
    "import datetime\n",
    "import numpy as np\n",
    "import pandas as pd\n",
    "import seaborn as sns\n",
    "from matplotlib import pyplot as plt\n",
    "from pymongo import MongoClient\n",
    "from smartenergy.database import MinuteMeasurements, HourlyMeasurements, Performance\n",
    "from smartenergy.ml_service.features import BatteryStateFeatures, BasicPreprocessor, DateFeatures, DataGrouper, Pipeline\n",
    "\n",
    "from IPython.core.display import display, HTML\n",
    "from jupyterthemes import jtplot\n",
    "jtplot.style('onedork')\n",
    "\n",
    "np.warnings.filterwarnings('ignore')\n",
    "pd.options.display.float_format = '{:.2f}'.format\n",
    "display(HTML(\"<style>.container { width: 1600px !important; }</style>\"))"
   ]
  },
  {
   "cell_type": "code",
   "execution_count": 9,
   "metadata": {},
   "outputs": [],
   "source": [
    "## Check if station 311 has a battery\n",
    "hourly_measurements = HourlyMeasurements()\n",
    "data = hourly_measurements.load_single_station('311')"
   ]
  },
  {
   "cell_type": "code",
   "execution_count": 10,
   "metadata": {},
   "outputs": [
    {
     "data": {
      "text/html": [
       "<div>\n",
       "<style scoped>\n",
       "    .dataframe tbody tr th:only-of-type {\n",
       "        vertical-align: middle;\n",
       "    }\n",
       "\n",
       "    .dataframe tbody tr th {\n",
       "        vertical-align: top;\n",
       "    }\n",
       "\n",
       "    .dataframe thead th {\n",
       "        text-align: right;\n",
       "    }\n",
       "</style>\n",
       "<table border=\"1\" class=\"dataframe\">\n",
       "  <thead>\n",
       "    <tr style=\"text-align: right;\">\n",
       "      <th></th>\n",
       "    </tr>\n",
       "  </thead>\n",
       "  <tbody>\n",
       "  </tbody>\n",
       "</table>\n",
       "</div>"
      ],
      "text/plain": [
       "Empty DataFrame\n",
       "Columns: []\n",
       "Index: []"
      ]
     },
     "execution_count": 10,
     "metadata": {},
     "output_type": "execute_result"
    }
   ],
   "source": [
    "data.head()"
   ]
  },
  {
   "cell_type": "code",
   "execution_count": null,
   "metadata": {},
   "outputs": [],
   "source": [
    "## Exploring volt data\n",
    "\n",
    "minute_measurements = MinuteMeasurements()\n",
    "stations = minute_measurements.station_ids[:2]\n",
    "data = {\n",
    "    'MinuteMeasurements': minute_measurements.load_multiple_stations(stations, 1000),\n",
    "}\n",
    "print(data['MinuteMeasurements'].shape)\n",
    "data['MinuteMeasurements'].sample(5)\n",
    "\n"
   ]
  },
  {
   "cell_type": "code",
   "execution_count": null,
   "metadata": {},
   "outputs": [],
   "source": [
    "vars_ = ['fVPV_avg', 'fVGrid_avg', 'fVBattery_avg']\n",
    "for v in vars_:\n",
    "    data['MinuteMeasurements'][v] = data['MinuteMeasurements'][v].astype(str).apply(lambda x: x.replace(',', '.')).astype(float)\n",
    "\n",
    "data['MinuteMeasurements'].groupby('solbox_id')[vars_].agg(['mean', 'std', 'min', 'max'])"
   ]
  },
  {
   "cell_type": "code",
   "execution_count": 35,
   "metadata": {},
   "outputs": [],
   "source": [
    "performance = Performance()\n",
    "performance_data = pd.DataFrame(performance.load_all()).set_index('t').sort_index()"
   ]
  },
  {
   "cell_type": "code",
   "execution_count": 36,
   "metadata": {},
   "outputs": [
    {
     "data": {
      "image/png": "[encoded data removed]",
      "text/plain": [
       "<Figure size 1800x360 with 1 Axes>"
      ]
     },
     "metadata": {},
     "output_type": "display_data"
    }
   ],
   "source": [
    "fig, ax = plt.subplots(1, 1, figsize=(25, 5))\n",
    "plt.plot(performance_data['agent_service'].index, performance_data['agent_service'].values)\n",
    "plt.show()"
   ]
  },
  {
   "cell_type": "code",
   "execution_count": 29,
   "metadata": {},
   "outputs": [
    {
     "data": {
      "text/plain": [
       "DatetimeIndex(['2017-11-13 06:00:00', '2017-11-13 06:00:00',\n",
       "               '2017-11-13 06:00:00', '2017-11-13 06:00:00',\n",
       "               '2017-11-13 06:00:00', '2017-11-13 06:00:00',\n",
       "               '2017-11-13 06:00:00', '2017-11-13 06:00:00',\n",
       "               '2017-11-13 06:00:00', '2017-11-13 06:00:00',\n",
       "               '2017-11-13 06:00:00', '2017-11-13 06:00:00',\n",
       "               '2017-11-13 06:00:00', '2017-11-13 06:00:00',\n",
       "               '2017-11-13 06:00:00', '2017-11-13 06:00:00',\n",
       "               '2017-11-13 06:00:00'],\n",
       "              dtype='datetime64[ns]', name='t', freq=None)"
      ]
     },
     "execution_count": 29,
     "metadata": {},
     "output_type": "execute_result"
    }
   ],
   "source": [
    "performance_data.index"
   ]
  },
  {
   "cell_type": "code",
   "execution_count": 27,
   "metadata": {},
   "outputs": [
    {
     "data": {
      "text/plain": [
       "[<matplotlib.lines.Line2D at 0x115133cc0>]"
      ]
     },
     "execution_count": 27,
     "metadata": {},
     "output_type": "execute_result"
    },
    {
     "data": {
      "image/png": "[encoded data removed]",
      "text/plain": [
       "<Figure size 460.8x403.2 with 1 Axes>"
      ]
     },
     "metadata": {},
     "output_type": "display_data"
    }
   ],
   "source": [
    "plt.plot(performance_data['agent_service'].index, performance_data['agent_service'].values)"
   ]
  },
  {
   "cell_type": "code",
   "execution_count": 26,
   "metadata": {},
   "outputs": [
    {
     "data": {
      "text/plain": [
       "array([5.13644534e+12, 2.26450919e+12, 3.02878111e+12, 5.02673179e+12,\n",
       "       4.30569921e+12, 8.85555148e+12, 4.94094778e+12, 5.69522468e+12,\n",
       "       1.33101755e+12, 4.09708423e+12, 5.23346798e+12, 5.59566291e+12,\n",
       "       5.75356744e+12, 3.39032592e+12, 3.40464003e+12, 2.95212443e+12,\n",
       "       3.04631644e+12])"
      ]
     },
     "execution_count": 26,
     "metadata": {},
     "output_type": "execute_result"
    }
   ],
   "source": [
    "performance_data['agent_service'].values"
   ]
  },
  {
   "cell_type": "code",
   "execution_count": 25,
   "metadata": {},
   "outputs": [
    {
     "data": {
      "text/plain": [
       "DatetimeIndex(['2017-11-13 06:00:00', '2017-11-13 06:00:00',\n",
       "               '2017-11-13 06:00:00', '2017-11-13 06:00:00',\n",
       "               '2017-11-13 06:00:00', '2017-11-13 06:00:00',\n",
       "               '2017-11-13 06:00:00', '2017-11-13 06:00:00',\n",
       "               '2017-11-13 06:00:00', '2017-11-13 06:00:00',\n",
       "               '2017-11-13 06:00:00', '2017-11-13 06:00:00',\n",
       "               '2017-11-13 06:00:00', '2017-11-13 06:00:00',\n",
       "               '2017-11-13 06:00:00', '2017-11-13 06:00:00',\n",
       "               '2017-11-13 06:00:00'],\n",
       "              dtype='datetime64[ns]', name='t', freq=None)"
      ]
     },
     "execution_count": 25,
     "metadata": {},
     "output_type": "execute_result"
    }
   ],
   "source": [
    "performance_data['agent_service'].index"
   ]
  },
  {
   "cell_type": "code",
   "execution_count": 22,
   "metadata": {},
   "outputs": [
    {
     "data": {
      "text/html": [
       "<div>\n",
       "<style scoped>\n",
       "    .dataframe tbody tr th:only-of-type {\n",
       "        vertical-align: middle;\n",
       "    }\n",
       "\n",
       "    .dataframe tbody tr th {\n",
       "        vertical-align: top;\n",
       "    }\n",
       "\n",
       "    .dataframe thead th {\n",
       "        text-align: right;\n",
       "    }\n",
       "</style>\n",
       "<table border=\"1\" class=\"dataframe\">\n",
       "  <thead>\n",
       "    <tr style=\"text-align: right;\">\n",
       "      <th></th>\n",
       "      <th>_id</th>\n",
       "      <th>agent_service</th>\n",
       "      <th>forecast_service</th>\n",
       "    </tr>\n",
       "    <tr>\n",
       "      <th>t</th>\n",
       "      <th></th>\n",
       "      <th></th>\n",
       "      <th></th>\n",
       "    </tr>\n",
       "  </thead>\n",
       "  <tbody>\n",
       "    <tr>\n",
       "      <th>2017-11-13 06:00:00</th>\n",
       "      <td>5bbc97540d850e37f4942a2c</td>\n",
       "      <td>5136445341696.00</td>\n",
       "      <td>{'XGBoostHourlyGenerationStationPredictor': {'...</td>\n",
       "    </tr>\n",
       "    <tr>\n",
       "      <th>2017-11-13 06:00:00</th>\n",
       "      <td>5bbc976d0d850e37f4942aa5</td>\n",
       "      <td>2264509186048.00</td>\n",
       "      <td>{'XGBoostHourlyGenerationStationPredictor': {'...</td>\n",
       "    </tr>\n",
       "    <tr>\n",
       "      <th>2017-11-13 06:00:00</th>\n",
       "      <td>5bbc977b0d850e37f4942b1e</td>\n",
       "      <td>3028781105152.00</td>\n",
       "      <td>{'XGBoostHourlyGenerationStationPredictor': {'...</td>\n",
       "    </tr>\n",
       "    <tr>\n",
       "      <th>2017-11-13 06:00:00</th>\n",
       "      <td>5bbc97890d850e37f4942b97</td>\n",
       "      <td>5026731786240.00</td>\n",
       "      <td>{'XGBoostHourlyGenerationStationPredictor': {'...</td>\n",
       "    </tr>\n",
       "    <tr>\n",
       "      <th>2017-11-13 06:00:00</th>\n",
       "      <td>5bbc97970d850e37f4942c10</td>\n",
       "      <td>4305699209216.00</td>\n",
       "      <td>{'XGBoostHourlyGenerationStationPredictor': {'...</td>\n",
       "    </tr>\n",
       "    <tr>\n",
       "      <th>2017-11-13 06:00:00</th>\n",
       "      <td>5bbc97a50d850e37f4942c89</td>\n",
       "      <td>8855551475712.00</td>\n",
       "      <td>{'XGBoostHourlyGenerationStationPredictor': {'...</td>\n",
       "    </tr>\n",
       "    <tr>\n",
       "      <th>2017-11-13 06:00:00</th>\n",
       "      <td>5bbc97b30d850e37f4942d02</td>\n",
       "      <td>4940947783680.00</td>\n",
       "      <td>{'XGBoostHourlyGenerationStationPredictor': {'...</td>\n",
       "    </tr>\n",
       "    <tr>\n",
       "      <th>2017-11-13 06:00:00</th>\n",
       "      <td>5bbc97c10d850e37f4942d7b</td>\n",
       "      <td>5695224676352.00</td>\n",
       "      <td>{'XGBoostHourlyGenerationStationPredictor': {'...</td>\n",
       "    </tr>\n",
       "    <tr>\n",
       "      <th>2017-11-13 06:00:00</th>\n",
       "      <td>5bbc97d00d850e37f4942df4</td>\n",
       "      <td>1331017547776.00</td>\n",
       "      <td>{'XGBoostHourlyGenerationStationPredictor': {'...</td>\n",
       "    </tr>\n",
       "    <tr>\n",
       "      <th>2017-11-13 06:00:00</th>\n",
       "      <td>5bbc97df0d850e37f4942e6d</td>\n",
       "      <td>4097084227584.00</td>\n",
       "      <td>{'XGBoostHourlyGenerationStationPredictor': {'...</td>\n",
       "    </tr>\n",
       "    <tr>\n",
       "      <th>2017-11-13 06:00:00</th>\n",
       "      <td>5bbc97ed0d850e37f4942ee6</td>\n",
       "      <td>5233467981824.00</td>\n",
       "      <td>{'XGBoostHourlyGenerationStationPredictor': {'...</td>\n",
       "    </tr>\n",
       "    <tr>\n",
       "      <th>2017-11-13 06:00:00</th>\n",
       "      <td>5bbc97fc0d850e37f4942f5f</td>\n",
       "      <td>5595662909440.00</td>\n",
       "      <td>{'XGBoostHourlyGenerationStationPredictor': {'...</td>\n",
       "    </tr>\n",
       "    <tr>\n",
       "      <th>2017-11-13 06:00:00</th>\n",
       "      <td>5bbc980b0d850e37f4942fd8</td>\n",
       "      <td>5753567444992.00</td>\n",
       "      <td>{'XGBoostHourlyGenerationStationPredictor': {'...</td>\n",
       "    </tr>\n",
       "    <tr>\n",
       "      <th>2017-11-13 06:00:00</th>\n",
       "      <td>5bbc981b0d850e37f4943051</td>\n",
       "      <td>3390325915648.00</td>\n",
       "      <td>{'XGBoostHourlyGenerationStationPredictor': {'...</td>\n",
       "    </tr>\n",
       "    <tr>\n",
       "      <th>2017-11-13 06:00:00</th>\n",
       "      <td>5bbc982b0d850e37f49430ca</td>\n",
       "      <td>3404640026624.00</td>\n",
       "      <td>{'XGBoostHourlyGenerationStationPredictor': {'...</td>\n",
       "    </tr>\n",
       "    <tr>\n",
       "      <th>2017-11-13 06:00:00</th>\n",
       "      <td>5bbc983a0d850e37f4943143</td>\n",
       "      <td>2952124432384.00</td>\n",
       "      <td>{'XGBoostHourlyGenerationStationPredictor': {'...</td>\n",
       "    </tr>\n",
       "    <tr>\n",
       "      <th>2017-11-13 06:00:00</th>\n",
       "      <td>5bbc984b0d850e37f49431bc</td>\n",
       "      <td>3046316441600.00</td>\n",
       "      <td>{'XGBoostHourlyGenerationStationPredictor': {'...</td>\n",
       "    </tr>\n",
       "  </tbody>\n",
       "</table>\n",
       "</div>"
      ],
      "text/plain": [
       "                                          _id                        ...                                                           forecast_service\n",
       "t                                                                    ...                                                                           \n",
       "2017-11-13 06:00:00  5bbc97540d850e37f4942a2c                        ...                          {'XGBoostHourlyGenerationStationPredictor': {'...\n",
       "2017-11-13 06:00:00  5bbc976d0d850e37f4942aa5                        ...                          {'XGBoostHourlyGenerationStationPredictor': {'...\n",
       "2017-11-13 06:00:00  5bbc977b0d850e37f4942b1e                        ...                          {'XGBoostHourlyGenerationStationPredictor': {'...\n",
       "2017-11-13 06:00:00  5bbc97890d850e37f4942b97                        ...                          {'XGBoostHourlyGenerationStationPredictor': {'...\n",
       "2017-11-13 06:00:00  5bbc97970d850e37f4942c10                        ...                          {'XGBoostHourlyGenerationStationPredictor': {'...\n",
       "2017-11-13 06:00:00  5bbc97a50d850e37f4942c89                        ...                          {'XGBoostHourlyGenerationStationPredictor': {'...\n",
       "2017-11-13 06:00:00  5bbc97b30d850e37f4942d02                        ...                          {'XGBoostHourlyGenerationStationPredictor': {'...\n",
       "2017-11-13 06:00:00  5bbc97c10d850e37f4942d7b                        ...                          {'XGBoostHourlyGenerationStationPredictor': {'...\n",
       "2017-11-13 06:00:00  5bbc97d00d850e37f4942df4                        ...                          {'XGBoostHourlyGenerationStationPredictor': {'...\n",
       "2017-11-13 06:00:00  5bbc97df0d850e37f4942e6d                        ...                          {'XGBoostHourlyGenerationStationPredictor': {'...\n",
       "2017-11-13 06:00:00  5bbc97ed0d850e37f4942ee6                        ...                          {'XGBoostHourlyGenerationStationPredictor': {'...\n",
       "2017-11-13 06:00:00  5bbc97fc0d850e37f4942f5f                        ...                          {'XGBoostHourlyGenerationStationPredictor': {'...\n",
       "2017-11-13 06:00:00  5bbc980b0d850e37f4942fd8                        ...                          {'XGBoostHourlyGenerationStationPredictor': {'...\n",
       "2017-11-13 06:00:00  5bbc981b0d850e37f4943051                        ...                          {'XGBoostHourlyGenerationStationPredictor': {'...\n",
       "2017-11-13 06:00:00  5bbc982b0d850e37f49430ca                        ...                          {'XGBoostHourlyGenerationStationPredictor': {'...\n",
       "2017-11-13 06:00:00  5bbc983a0d850e37f4943143                        ...                          {'XGBoostHourlyGenerationStationPredictor': {'...\n",
       "2017-11-13 06:00:00  5bbc984b0d850e37f49431bc                        ...                          {'XGBoostHourlyGenerationStationPredictor': {'...\n",
       "\n",
       "[17 rows x 3 columns]"
      ]
     },
     "execution_count": 22,
     "metadata": {},
     "output_type": "execute_result"
    }
   ],
   "source": [
    "performance_data"
   ]
  },
  {
   "cell_type": "code",
   "execution_count": 21,
   "metadata": {
    "scrolled": true
   },
   "outputs": [
    {
     "data": {
      "text/plain": [
       "t\n",
       "2017-11-13 06:00:00   5136445341696.00\n",
       "2017-11-13 06:00:00   2264509186048.00\n",
       "2017-11-13 06:00:00   3028781105152.00\n",
       "2017-11-13 06:00:00   5026731786240.00\n",
       "2017-11-13 06:00:00   4305699209216.00\n",
       "2017-11-13 06:00:00   8855551475712.00\n",
       "2017-11-13 06:00:00   4940947783680.00\n",
       "2017-11-13 06:00:00   5695224676352.00\n",
       "2017-11-13 06:00:00   1331017547776.00\n",
       "2017-11-13 06:00:00   4097084227584.00\n",
       "2017-11-13 06:00:00   5233467981824.00\n",
       "2017-11-13 06:00:00   5595662909440.00\n",
       "2017-11-13 06:00:00   5753567444992.00\n",
       "2017-11-13 06:00:00   3390325915648.00\n",
       "2017-11-13 06:00:00   3404640026624.00\n",
       "2017-11-13 06:00:00   2952124432384.00\n",
       "2017-11-13 06:00:00   3046316441600.00\n",
       "Name: agent_service, dtype: float64"
      ]
     },
     "execution_count": 21,
     "metadata": {},
     "output_type": "execute_result"
    }
   ],
   "source": [
    "performance_data['agent_service']"
   ]
  },
  {
   "cell_type": "code",
   "execution_count": null,
   "metadata": {},
   "outputs": [],
   "source": []
  }
 ],
 "metadata": {
  "kernelspec": {
   "display_name": "Python 3",
   "language": "python",
   "name": "python3"
  },
  "language_info": {
   "codemirror_mode": {
    "name": "ipython",
    "version": 3
   },
   "file_extension": ".py",
   "mimetype": "text/x-python",
   "name": "python",
   "nbconvert_exporter": "python",
   "pygments_lexer": "ipython3",
   "version": "3.6.5"
  }
 },
 "nbformat": 4,
 "nbformat_minor": 2
}
