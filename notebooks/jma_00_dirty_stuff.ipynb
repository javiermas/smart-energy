{
 "cells": [
  {
   "cell_type": "code",
   "execution_count": 8,
   "metadata": {},
   "outputs": [
    {
     "name": "stdout",
     "output_type": "stream",
     "text": [
      "The autoreload extension is already loaded. To reload it, use:\n",
      "  %reload_ext autoreload\n"
     ]
    },
    {
     "data": {
      "text/html": [
       "<style>.container { width: 1600px !important; }</style>"
      ],
      "text/plain": [
       "<IPython.core.display.HTML object>"
      ]
     },
     "metadata": {},
     "output_type": "display_data"
    }
   ],
   "source": [
    "%load_ext autoreload\n",
    "%autoreload 2\n",
    "\n",
    "from functools import reduce\n",
    "import datetime\n",
    "import numpy as np\n",
    "import pandas as pd\n",
    "import seaborn as sns\n",
    "from matplotlib import pyplot as plt\n",
    "from pymongo import MongoClient\n",
    "from smartenergy.database import MinuteMeasurements, HourlyMeasurements\n",
    "from smartenergy.ml_service.features import BatteryStateFeatures, BasicPreprocessor, DateFeatures, DataGrouper, Pipeline\n",
    "\n",
    "from IPython.core.display import display, HTML\n",
    "from jupyterthemes import jtplot\n",
    "jtplot.style('onedork')\n",
    "\n",
    "np.warnings.filterwarnings('ignore')\n",
    "pd.options.display.float_format = '{:.2f}'.format\n",
    "display(HTML(\"<style>.container { width: 1600px !important; }</style>\"))"
   ]
  },
  {
   "cell_type": "code",
   "execution_count": 9,
   "metadata": {},
   "outputs": [],
   "source": [
    "## Check if station 311 has a battery\n",
    "hourly_measurements = HourlyMeasurements()\n",
    "data = hourly_measurements.load_single_station('311')"
   ]
  },
  {
   "cell_type": "code",
   "execution_count": 10,
   "metadata": {},
   "outputs": [
    {
     "data": {
      "text/html": [
       "<div>\n",
       "<style scoped>\n",
       "    .dataframe tbody tr th:only-of-type {\n",
       "        vertical-align: middle;\n",
       "    }\n",
       "\n",
       "    .dataframe tbody tr th {\n",
       "        vertical-align: top;\n",
       "    }\n",
       "\n",
       "    .dataframe thead th {\n",
       "        text-align: right;\n",
       "    }\n",
       "</style>\n",
       "<table border=\"1\" class=\"dataframe\">\n",
       "  <thead>\n",
       "    <tr style=\"text-align: right;\">\n",
       "      <th></th>\n",
       "    </tr>\n",
       "  </thead>\n",
       "  <tbody>\n",
       "  </tbody>\n",
       "</table>\n",
       "</div>"
      ],
      "text/plain": [
       "Empty DataFrame\n",
       "Columns: []\n",
       "Index: []"
      ]
     },
     "execution_count": 10,
     "metadata": {},
     "output_type": "execute_result"
    }
   ],
   "source": [
    "data.head()"
   ]
  },
  {
   "cell_type": "code",
   "execution_count": null,
   "metadata": {},
   "outputs": [],
   "source": [
    "## Exploring volt data\n",
    "\n",
    "minute_measurements = MinuteMeasurements()\n",
    "stations = minute_measurements.station_ids[:2]\n",
    "data = {\n",
    "    'MinuteMeasurements': minute_measurements.load_multiple_stations(stations, 1000),\n",
    "}\n",
    "print(data['MinuteMeasurements'].shape)\n",
    "data['MinuteMeasurements'].sample(5)\n",
    "\n"
   ]
  },
  {
   "cell_type": "code",
   "execution_count": null,
   "metadata": {},
   "outputs": [],
   "source": [
    "vars_ = ['fVPV_avg', 'fVGrid_avg', 'fVBattery_avg']\n",
    "for v in vars_:\n",
    "    data['MinuteMeasurements'][v] = data['MinuteMeasurements'][v].astype(str).apply(lambda x: x.replace(',', '.')).astype(float)\n",
    "\n",
    "data['MinuteMeasurements'].groupby('solbox_id')[vars_].agg(['mean', 'std', 'min', 'max'])"
   ]
  }
 ],
 "metadata": {
  "kernelspec": {
   "display_name": "Python 3",
   "language": "python",
   "name": "python3"
  },
  "language_info": {
   "codemirror_mode": {
    "name": "ipython",
    "version": 3
   },
   "file_extension": ".py",
   "mimetype": "text/x-python",
   "name": "python",
   "nbconvert_exporter": "python",
   "pygments_lexer": "ipython3",
   "version": "3.6.5"
  }
 },
 "nbformat": 4,
 "nbformat_minor": 2
}
