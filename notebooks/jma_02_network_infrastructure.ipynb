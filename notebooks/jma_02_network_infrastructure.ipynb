{
 "cells": [
  {
   "cell_type": "code",
   "execution_count": 6,
   "metadata": {},
   "outputs": [
    {
     "name": "stdout",
     "output_type": "stream",
     "text": [
      "The autoreload extension is already loaded. To reload it, use:\n",
      "  %reload_ext autoreload\n"
     ]
    },
    {
     "data": {
      "text/html": [
       "<style>.container { width: 1480px !important; }</style>"
      ],
      "text/plain": [
       "<IPython.core.display.HTML object>"
      ]
     },
     "metadata": {},
     "output_type": "display_data"
    }
   ],
   "source": [
    "%load_ext autoreload\n",
    "%autoreload 2\n",
    "\n",
    "import numpy as np\n",
    "import pandas as pd\n",
    "from IPython.core.display import display, HTML\n",
    "from jupyterthemes import jtplot\n",
    "\n",
    "from smartenergy.database import Stations, HourlyMeasurements\n",
    "jtplot.style('onedork')\n",
    "\n",
    "np.warnings.filterwarnings('ignore')\n",
    "pd.options.display.float_format = '{:.2f}'.format\n",
    "display(HTML(\"<style>.container { width: 1480px !important; }</style>\"))\n"
   ]
  },
  {
   "cell_type": "code",
   "execution_count": 7,
   "metadata": {},
   "outputs": [
    {
     "data": {
      "text/plain": [
       "['190',\n",
       " '30',\n",
       " '309',\n",
       " '32',\n",
       " '34',\n",
       " '344',\n",
       " '345',\n",
       " '366',\n",
       " '369',\n",
       " '37',\n",
       " '40',\n",
       " '43',\n",
       " '47',\n",
       " '48',\n",
       " '68',\n",
       " '71',\n",
       " '97']"
      ]
     },
     "execution_count": 7,
     "metadata": {},
     "output_type": "execute_result"
    }
   ],
   "source": [
    "station_ids = HourlyMeasurements().station_ids\n",
    "stations = Stations()\n",
    "station_ids"
   ]
  },
  {
   "cell_type": "code",
   "execution_count": 8,
   "metadata": {},
   "outputs": [
    {
     "name": "stdout",
     "output_type": "stream",
     "text": [
      "{'190': {'30': 0.9, '32': 0.9}, '30': {'190': 0.9, '309': 0.9, '34': 0.9}, '309': {'30': 0.9, '344': 0.9}, '32': {'190': 0.9, '34': 0.9, '345': 0.9}, '34': {'32': 0.9, '30': 0.9, '344': 0.9, '366': 0.9}, '344': {'34': 0.9, '309': 0.9, '369': 0.9}, '345': {'32': 0.9, '366': 0.9, '37': 0.9}, '366': {'345': 0.9, '34': 0.9, '369': 0.9, '40': 0.9}, '369': {'366': 0.9, '344': 0.9, '43': 0.9}, '37': {'345': 0.9, '40': 0.9, '47': 0.9}, '40': {'37': 0.9, '366': 0.9, '43': 0.9, '48': 0.9}, '43': {'40': 0.9, '369': 0.9, '68': 0.9}, '47': {'37': 0.9, '48': 0.9, '71': 0.9}, '48': {'47': 0.9, '40': 0.9, '68': 0.9, '97': 0.9}, '68': {'48': 0.9, '43': 0.9}, '71': {'47': 0.9, '97': 0.9}, '97': {'71': 0.9, '48': 0.9}}\n"
     ]
    }
   ],
   "source": [
    "from math import ceil\n",
    "width = 3\n",
    "length = ceil(len(station_ids)/width)\n",
    "grid = np.zeros((length, width))\n",
    "for i in range(length):\n",
    "    grid_elements = station_ids[(i*width):((i+1)*width)]\n",
    "    grid[i, :len(grid_elements)] = grid_elements\n",
    "\n",
    "grid_dict = {}\n",
    "for row in range(len(grid)):\n",
    "    for col in range(len(grid[row])):\n",
    "        if grid[row, col] == 0:\n",
    "            continue\n",
    "            \n",
    "        left_node = (row, col - 1)\n",
    "        upper_node = (row - 1, col)\n",
    "        right_node = (row, col + 1)\n",
    "        lower_node = (row + 1, col)\n",
    "        grid_dict[str(int(grid[row, col]))] = {str(int(grid[_row, _col])): 0.9 for _row, _col in [left_node, upper_node, right_node, lower_node]\n",
    "                                               if 0 <= _row <= (length-1) and 0 <= _col <= (width-1) and grid[_row, _col] != 0}\n",
    "        \n",
    "print(grid_dict)"
   ]
  },
  {
   "cell_type": "code",
   "execution_count": 12,
   "metadata": {},
   "outputs": [
    {
     "data": {
      "text/plain": [
       "[{'solbox_id': '190',\n",
       "  'res_gen_bat': 0.95,\n",
       "  'res_gen_con': 0.95,\n",
       "  'res_gen_grid': 0.95,\n",
       "  'res_bat_con': 0.95,\n",
       "  'res_bat_grid': 0.95,\n",
       "  'res_self_30': 0.9,\n",
       "  'res_self_32': 0.9},\n",
       " {'solbox_id': '30',\n",
       "  'res_gen_bat': 0.95,\n",
       "  'res_gen_con': 0.95,\n",
       "  'res_gen_grid': 0.95,\n",
       "  'res_bat_con': 0.95,\n",
       "  'res_bat_grid': 0.95,\n",
       "  'res_self_190': 0.9,\n",
       "  'res_self_309': 0.9,\n",
       "  'res_self_34': 0.9},\n",
       " {'solbox_id': '309',\n",
       "  'res_gen_bat': 0.95,\n",
       "  'res_gen_con': 0.95,\n",
       "  'res_gen_grid': 0.95,\n",
       "  'res_bat_con': 0.95,\n",
       "  'res_bat_grid': 0.95,\n",
       "  'res_self_30': 0.9,\n",
       "  'res_self_344': 0.9},\n",
       " {'solbox_id': '32',\n",
       "  'res_gen_bat': 0.95,\n",
       "  'res_gen_con': 0.95,\n",
       "  'res_gen_grid': 0.95,\n",
       "  'res_bat_con': 0.95,\n",
       "  'res_bat_grid': 0.95,\n",
       "  'res_self_190': 0.9,\n",
       "  'res_self_34': 0.9,\n",
       "  'res_self_345': 0.9},\n",
       " {'solbox_id': '34',\n",
       "  'res_gen_bat': 0.95,\n",
       "  'res_gen_con': 0.95,\n",
       "  'res_gen_grid': 0.95,\n",
       "  'res_bat_con': 0.95,\n",
       "  'res_bat_grid': 0.95,\n",
       "  'res_self_32': 0.9,\n",
       "  'res_self_30': 0.9,\n",
       "  'res_self_344': 0.9,\n",
       "  'res_self_366': 0.9},\n",
       " {'solbox_id': '344',\n",
       "  'res_gen_bat': 0.95,\n",
       "  'res_gen_con': 0.95,\n",
       "  'res_gen_grid': 0.95,\n",
       "  'res_bat_con': 0.95,\n",
       "  'res_bat_grid': 0.95,\n",
       "  'res_self_34': 0.9,\n",
       "  'res_self_309': 0.9,\n",
       "  'res_self_369': 0.9},\n",
       " {'solbox_id': '345',\n",
       "  'res_gen_bat': 0.95,\n",
       "  'res_gen_con': 0.95,\n",
       "  'res_gen_grid': 0.95,\n",
       "  'res_bat_con': 0.95,\n",
       "  'res_bat_grid': 0.95,\n",
       "  'res_self_32': 0.9,\n",
       "  'res_self_366': 0.9,\n",
       "  'res_self_37': 0.9},\n",
       " {'solbox_id': '366',\n",
       "  'res_gen_bat': 0.95,\n",
       "  'res_gen_con': 0.95,\n",
       "  'res_gen_grid': 0.95,\n",
       "  'res_bat_con': 0.95,\n",
       "  'res_bat_grid': 0.95,\n",
       "  'res_self_345': 0.9,\n",
       "  'res_self_34': 0.9,\n",
       "  'res_self_369': 0.9,\n",
       "  'res_self_40': 0.9},\n",
       " {'solbox_id': '369',\n",
       "  'res_gen_bat': 0.95,\n",
       "  'res_gen_con': 0.95,\n",
       "  'res_gen_grid': 0.95,\n",
       "  'res_bat_con': 0.95,\n",
       "  'res_bat_grid': 0.95,\n",
       "  'res_self_366': 0.9,\n",
       "  'res_self_344': 0.9,\n",
       "  'res_self_43': 0.9},\n",
       " {'solbox_id': '37',\n",
       "  'res_gen_bat': 0.95,\n",
       "  'res_gen_con': 0.95,\n",
       "  'res_gen_grid': 0.95,\n",
       "  'res_bat_con': 0.95,\n",
       "  'res_bat_grid': 0.95,\n",
       "  'res_self_345': 0.9,\n",
       "  'res_self_40': 0.9,\n",
       "  'res_self_47': 0.9},\n",
       " {'solbox_id': '40',\n",
       "  'res_gen_bat': 0.95,\n",
       "  'res_gen_con': 0.95,\n",
       "  'res_gen_grid': 0.95,\n",
       "  'res_bat_con': 0.95,\n",
       "  'res_bat_grid': 0.95,\n",
       "  'res_self_37': 0.9,\n",
       "  'res_self_366': 0.9,\n",
       "  'res_self_43': 0.9,\n",
       "  'res_self_48': 0.9},\n",
       " {'solbox_id': '43',\n",
       "  'res_gen_bat': 0.95,\n",
       "  'res_gen_con': 0.95,\n",
       "  'res_gen_grid': 0.95,\n",
       "  'res_bat_con': 0.95,\n",
       "  'res_bat_grid': 0.95,\n",
       "  'res_self_40': 0.9,\n",
       "  'res_self_369': 0.9,\n",
       "  'res_self_68': 0.9},\n",
       " {'solbox_id': '47',\n",
       "  'res_gen_bat': 0.95,\n",
       "  'res_gen_con': 0.95,\n",
       "  'res_gen_grid': 0.95,\n",
       "  'res_bat_con': 0.95,\n",
       "  'res_bat_grid': 0.95,\n",
       "  'res_self_37': 0.9,\n",
       "  'res_self_48': 0.9,\n",
       "  'res_self_71': 0.9},\n",
       " {'solbox_id': '48',\n",
       "  'res_gen_bat': 0.95,\n",
       "  'res_gen_con': 0.95,\n",
       "  'res_gen_grid': 0.95,\n",
       "  'res_bat_con': 0.95,\n",
       "  'res_bat_grid': 0.95,\n",
       "  'res_self_47': 0.9,\n",
       "  'res_self_40': 0.9,\n",
       "  'res_self_68': 0.9,\n",
       "  'res_self_97': 0.9},\n",
       " {'solbox_id': '68',\n",
       "  'res_gen_bat': 0.95,\n",
       "  'res_gen_con': 0.95,\n",
       "  'res_gen_grid': 0.95,\n",
       "  'res_bat_con': 0.95,\n",
       "  'res_bat_grid': 0.95,\n",
       "  'res_self_48': 0.9,\n",
       "  'res_self_43': 0.9},\n",
       " {'solbox_id': '71',\n",
       "  'res_gen_bat': 0.95,\n",
       "  'res_gen_con': 0.95,\n",
       "  'res_gen_grid': 0.95,\n",
       "  'res_bat_con': 0.95,\n",
       "  'res_bat_grid': 0.95,\n",
       "  'res_self_47': 0.9,\n",
       "  'res_self_97': 0.9},\n",
       " {'solbox_id': '97',\n",
       "  'res_gen_bat': 0.95,\n",
       "  'res_gen_con': 0.95,\n",
       "  'res_gen_grid': 0.95,\n",
       "  'res_bat_con': 0.95,\n",
       "  'res_bat_grid': 0.95,\n",
       "  'res_self_71': 0.9,\n",
       "  'res_self_48': 0.9}]"
      ]
     },
     "execution_count": 12,
     "metadata": {},
     "output_type": "execute_result"
    }
   ],
   "source": [
    "stations_dict = list()\n",
    "for i, station in enumerate(station_ids):\n",
    "    stations_dict.append({\n",
    "        'solbox_id': station,\n",
    "        'res_gen_bat': 0.95,\n",
    "        'res_gen_con': 0.95,\n",
    "        'res_gen_grid': 0.95,\n",
    "        'res_bat_con': 0.95,\n",
    "        'res_bat_grid': 0.95,\n",
    "    })\n",
    "    for s, res in grid_dict[station].items():\n",
    "        stations_dict[i]['res_self_{}'.format(s)] = res\n",
    "\n",
    "stations_dict"
   ]
  },
  {
   "cell_type": "code",
   "execution_count": 13,
   "metadata": {},
   "outputs": [],
   "source": [
    "stations.insert_many(stations_dict)"
   ]
  },
  {
   "cell_type": "code",
   "execution_count": null,
   "metadata": {},
   "outputs": [],
   "source": []
  }
 ],
 "metadata": {
  "kernelspec": {
   "display_name": "Python 3",
   "language": "python",
   "name": "python3"
  }
 },
 "nbformat": 4,
 "nbformat_minor": 2
}
